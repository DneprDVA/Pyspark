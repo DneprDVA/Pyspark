{
 "cells": [
  {
   "cell_type": "code",
   "execution_count": null,
   "metadata": {},
   "outputs": [],
   "source": [
    "pip freeze"
   ]
  },
  {
   "cell_type": "code",
   "execution_count": 1,
   "metadata": {},
   "outputs": [
    {
     "ename": "ModuleNotFoundError",
     "evalue": "No module named 'pandas'",
     "output_type": "error",
     "traceback": [
      "\u001b[1;31m---------------------------------------------------------------------------\u001b[0m",
      "\u001b[1;31mModuleNotFoundError\u001b[0m                       Traceback (most recent call last)",
      "Cell \u001b[1;32mIn[1], line 1\u001b[0m\n\u001b[1;32m----> 1\u001b[0m \u001b[39mimport\u001b[39;00m \u001b[39mpandas\u001b[39;00m \u001b[39mas\u001b[39;00m \u001b[39mpd\u001b[39;00m\n\u001b[0;32m      2\u001b[0m \u001b[39mimport\u001b[39;00m \u001b[39msqlalchemy\u001b[39;00m\n\u001b[0;32m      3\u001b[0m \u001b[39mfrom\u001b[39;00m \u001b[39msqlalchemy\u001b[39;00m \u001b[39mimport\u001b[39;00m create_engine\n",
      "\u001b[1;31mModuleNotFoundError\u001b[0m: No module named 'pandas'"
     ]
    }
   ],
   "source": [
    "import pandas as pd\n",
    "import sqlalchemy\n",
    "from sqlalchemy import create_engine\n",
    "import matplotlib\n",
    "import pyspark\n",
    "import pyspark.pandas as ps"
   ]
  },
  {
   "cell_type": "code",
   "execution_count": 3,
   "metadata": {},
   "outputs": [],
   "source": [
    "pd.set_option('display.max_columns', 100)"
   ]
  },
  {
   "cell_type": "code",
   "execution_count": 34,
   "metadata": {},
   "outputs": [],
   "source": [
    "engine = create_engine('postgresql+psycopg2://postgres:@localhost/bdtest')"
   ]
  },
  {
   "cell_type": "code",
   "execution_count": 36,
   "metadata": {},
   "outputs": [
    {
     "data": {
      "text/plain": [
       "644"
      ]
     },
     "execution_count": 36,
     "metadata": {},
     "output_type": "execute_result"
    }
   ],
   "source": [
    "words.to_sql('pandas_db', engine)"
   ]
  },
  {
   "cell_type": "code",
   "execution_count": 28,
   "metadata": {},
   "outputs": [],
   "source": [
    "words_df = pd.read_csv(\"C:/Users/vovad/Downloads/OnlineNewsPopularity/OnlineNewsPopularity/OnlineNewsPopularity.csv\", usecols=[' kw_avg_avg', ' is_weekend', \\\n",
    "' data_channel_is_entertainment', ' data_channel_is_tech', ' data_channel_is_socmed', ' self_reference_avg_sharess', ' LDA_02', ' self_reference_min_shares', \\\n",
    "' kw_max_max', ' n_tokens_content', ' min_positive_polarity', ' kw_min_max', ' num_keywords', ' title_sentiment_polarity', ' kw_max_min', ' shares'])"
   ]
  },
  {
   "cell_type": "code",
   "execution_count": 212,
   "metadata": {},
   "outputs": [
    {
     "data": {
      "text/plain": [
       "300"
      ]
     },
     "execution_count": 212,
     "metadata": {},
     "output_type": "execute_result"
    }
   ],
   "source": [
    "len(words_df)"
   ]
  },
  {
   "cell_type": "code",
   "execution_count": 179,
   "metadata": {},
   "outputs": [],
   "source": [
    "cols = ['kw_avg_avg', 'is_weekend', 'data_channel_is_entertainment', 'data_channel_is_tech', \\\n",
    "'data_channel_is_socmed', 'self_reference_avg_sharess', 'LDA_02', 'self_reference_min_shares', \\\n",
    "'kw_max_max', 'n_tokens_content', 'min_positive_polarity', 'kw_min_max', 'num_keywords', 'title_sentiment_polarity', 'kw_max_min']"
   ]
  },
  {
   "cell_type": "code",
   "execution_count": 29,
   "metadata": {},
   "outputs": [],
   "source": [
    "words_df.loc[words_df[\" shares\"] >= 1400, \"Label\"] = 1\n",
    "words_df.loc[words_df[\" shares\"] < 1400, \"Label\"] = 0"
   ]
  },
  {
   "cell_type": "code",
   "execution_count": 30,
   "metadata": {},
   "outputs": [],
   "source": [
    "words = words_df.drop(' shares', axis=1)"
   ]
  },
  {
   "cell_type": "code",
   "execution_count": 31,
   "metadata": {},
   "outputs": [
    {
     "data": {
      "text/html": [
       "<div>\n",
       "<style scoped>\n",
       "    .dataframe tbody tr th:only-of-type {\n",
       "        vertical-align: middle;\n",
       "    }\n",
       "\n",
       "    .dataframe tbody tr th {\n",
       "        vertical-align: top;\n",
       "    }\n",
       "\n",
       "    .dataframe thead th {\n",
       "        text-align: right;\n",
       "    }\n",
       "</style>\n",
       "<table border=\"1\" class=\"dataframe\">\n",
       "  <thead>\n",
       "    <tr style=\"text-align: right;\">\n",
       "      <th></th>\n",
       "      <th>n_tokens_content</th>\n",
       "      <th>num_keywords</th>\n",
       "      <th>data_channel_is_entertainment</th>\n",
       "      <th>data_channel_is_socmed</th>\n",
       "      <th>data_channel_is_tech</th>\n",
       "      <th>kw_max_min</th>\n",
       "      <th>kw_min_max</th>\n",
       "      <th>kw_max_max</th>\n",
       "      <th>kw_avg_avg</th>\n",
       "      <th>self_reference_min_shares</th>\n",
       "      <th>self_reference_avg_sharess</th>\n",
       "      <th>is_weekend</th>\n",
       "      <th>LDA_02</th>\n",
       "      <th>min_positive_polarity</th>\n",
       "      <th>title_sentiment_polarity</th>\n",
       "      <th>Label</th>\n",
       "    </tr>\n",
       "  </thead>\n",
       "  <tbody>\n",
       "    <tr>\n",
       "      <th>0</th>\n",
       "      <td>219.0</td>\n",
       "      <td>5.0</td>\n",
       "      <td>1.0</td>\n",
       "      <td>0.0</td>\n",
       "      <td>0.0</td>\n",
       "      <td>0.0</td>\n",
       "      <td>0.0</td>\n",
       "      <td>0.0</td>\n",
       "      <td>0.0</td>\n",
       "      <td>496.0</td>\n",
       "      <td>496.000000</td>\n",
       "      <td>0.0</td>\n",
       "      <td>0.040005</td>\n",
       "      <td>0.100000</td>\n",
       "      <td>-0.187500</td>\n",
       "      <td>0.0</td>\n",
       "    </tr>\n",
       "    <tr>\n",
       "      <th>1</th>\n",
       "      <td>255.0</td>\n",
       "      <td>4.0</td>\n",
       "      <td>0.0</td>\n",
       "      <td>0.0</td>\n",
       "      <td>0.0</td>\n",
       "      <td>0.0</td>\n",
       "      <td>0.0</td>\n",
       "      <td>0.0</td>\n",
       "      <td>0.0</td>\n",
       "      <td>0.0</td>\n",
       "      <td>0.000000</td>\n",
       "      <td>0.0</td>\n",
       "      <td>0.050096</td>\n",
       "      <td>0.033333</td>\n",
       "      <td>0.000000</td>\n",
       "      <td>0.0</td>\n",
       "    </tr>\n",
       "    <tr>\n",
       "      <th>2</th>\n",
       "      <td>211.0</td>\n",
       "      <td>6.0</td>\n",
       "      <td>0.0</td>\n",
       "      <td>0.0</td>\n",
       "      <td>0.0</td>\n",
       "      <td>0.0</td>\n",
       "      <td>0.0</td>\n",
       "      <td>0.0</td>\n",
       "      <td>0.0</td>\n",
       "      <td>918.0</td>\n",
       "      <td>918.000000</td>\n",
       "      <td>0.0</td>\n",
       "      <td>0.033351</td>\n",
       "      <td>0.100000</td>\n",
       "      <td>0.000000</td>\n",
       "      <td>1.0</td>\n",
       "    </tr>\n",
       "    <tr>\n",
       "      <th>3</th>\n",
       "      <td>531.0</td>\n",
       "      <td>7.0</td>\n",
       "      <td>1.0</td>\n",
       "      <td>0.0</td>\n",
       "      <td>0.0</td>\n",
       "      <td>0.0</td>\n",
       "      <td>0.0</td>\n",
       "      <td>0.0</td>\n",
       "      <td>0.0</td>\n",
       "      <td>0.0</td>\n",
       "      <td>0.000000</td>\n",
       "      <td>0.0</td>\n",
       "      <td>0.494651</td>\n",
       "      <td>0.136364</td>\n",
       "      <td>0.000000</td>\n",
       "      <td>0.0</td>\n",
       "    </tr>\n",
       "    <tr>\n",
       "      <th>4</th>\n",
       "      <td>1072.0</td>\n",
       "      <td>7.0</td>\n",
       "      <td>0.0</td>\n",
       "      <td>0.0</td>\n",
       "      <td>1.0</td>\n",
       "      <td>0.0</td>\n",
       "      <td>0.0</td>\n",
       "      <td>0.0</td>\n",
       "      <td>0.0</td>\n",
       "      <td>545.0</td>\n",
       "      <td>3151.157895</td>\n",
       "      <td>0.0</td>\n",
       "      <td>0.028575</td>\n",
       "      <td>0.033333</td>\n",
       "      <td>0.136364</td>\n",
       "      <td>0.0</td>\n",
       "    </tr>\n",
       "  </tbody>\n",
       "</table>\n",
       "</div>"
      ],
      "text/plain": [
       "    n_tokens_content   num_keywords   data_channel_is_entertainment  \\\n",
       "0              219.0            5.0                             1.0   \n",
       "1              255.0            4.0                             0.0   \n",
       "2              211.0            6.0                             0.0   \n",
       "3              531.0            7.0                             1.0   \n",
       "4             1072.0            7.0                             0.0   \n",
       "\n",
       "    data_channel_is_socmed   data_channel_is_tech   kw_max_min   kw_min_max  \\\n",
       "0                      0.0                    0.0          0.0          0.0   \n",
       "1                      0.0                    0.0          0.0          0.0   \n",
       "2                      0.0                    0.0          0.0          0.0   \n",
       "3                      0.0                    0.0          0.0          0.0   \n",
       "4                      0.0                    1.0          0.0          0.0   \n",
       "\n",
       "    kw_max_max   kw_avg_avg   self_reference_min_shares  \\\n",
       "0          0.0          0.0                       496.0   \n",
       "1          0.0          0.0                         0.0   \n",
       "2          0.0          0.0                       918.0   \n",
       "3          0.0          0.0                         0.0   \n",
       "4          0.0          0.0                       545.0   \n",
       "\n",
       "    self_reference_avg_sharess   is_weekend    LDA_02   min_positive_polarity  \\\n",
       "0                   496.000000          0.0  0.040005                0.100000   \n",
       "1                     0.000000          0.0  0.050096                0.033333   \n",
       "2                   918.000000          0.0  0.033351                0.100000   \n",
       "3                     0.000000          0.0  0.494651                0.136364   \n",
       "4                  3151.157895          0.0  0.028575                0.033333   \n",
       "\n",
       "    title_sentiment_polarity  Label  \n",
       "0                  -0.187500    0.0  \n",
       "1                   0.000000    0.0  \n",
       "2                   0.000000    1.0  \n",
       "3                   0.000000    0.0  \n",
       "4                   0.136364    0.0  "
      ]
     },
     "execution_count": 31,
     "metadata": {},
     "output_type": "execute_result"
    }
   ],
   "source": [
    "words.head()"
   ]
  },
  {
   "cell_type": "code",
   "execution_count": 24,
   "metadata": {},
   "outputs": [],
   "source": [
    "from pyspark.ml import Pipeline\n",
    "from pyspark.sql import SparkSession, SQLContext\n",
    "from pyspark.ml.feature import VectorAssembler\n",
    "from pyspark.ml.regression import LinearRegression\n",
    "from pyspark.ml import Pipeline\n",
    "from pyspark.ml.classification import DecisionTreeClassifier\n",
    "from pyspark.ml.evaluation import MulticlassClassificationEvaluator\n",
    "from pyspark.ml.tuning import ParamGridBuilder\n",
    "from pyspark.ml.tuning import CrossValidator"
   ]
  },
  {
   "cell_type": "code",
   "execution_count": 25,
   "metadata": {},
   "outputs": [],
   "source": [
    "spark = (SparkSession\n",
    ".builder\n",
    ".appName(\"SparkSQLExampleApp\")\n",
    ".getOrCreate())"
   ]
  },
  {
   "cell_type": "code",
   "execution_count": 32,
   "metadata": {},
   "outputs": [],
   "source": [
    "words_spark = ps.from_pandas(words)"
   ]
  },
  {
   "cell_type": "code",
   "execution_count": 33,
   "metadata": {},
   "outputs": [
    {
     "name": "stderr",
     "output_type": "stream",
     "text": [
      "C:\\Users\\vovad\\AppData\\Local\\Packages\\PythonSoftwareFoundation.Python.3.9_qbz5n2kfra8p0\\LocalCache\\local-packages\\Python39\\site-packages\\pyspark\\pandas\\utils.py:975: PandasAPIOnSparkAdviceWarning: If `index_col` is not specified for `to_spark`, the existing index is lost when converting to Spark DataFrame.\n",
      "  warnings.warn(message, PandasAPIOnSparkAdviceWarning)\n"
     ]
    }
   ],
   "source": [
    "df_spark = words_spark.to_spark()"
   ]
  },
  {
   "cell_type": "code",
   "execution_count": 34,
   "metadata": {},
   "outputs": [
    {
     "name": "stdout",
     "output_type": "stream",
     "text": [
      "+-----------------+-------------+------------------------------+-----------------------+---------------------+-----------+-----------+-----------+-----------+--------------------------+---------------------------+-----------+---------------+----------------------+-------------------------+-----+\n",
      "| n_tokens_content| num_keywords| data_channel_is_entertainment| data_channel_is_socmed| data_channel_is_tech| kw_max_min| kw_min_max| kw_max_max| kw_avg_avg| self_reference_min_shares| self_reference_avg_sharess| is_weekend|         LDA_02| min_positive_polarity| title_sentiment_polarity|Label|\n",
      "+-----------------+-------------+------------------------------+-----------------------+---------------------+-----------+-----------+-----------+-----------+--------------------------+---------------------------+-----------+---------------+----------------------+-------------------------+-----+\n",
      "|            219.0|          5.0|                           1.0|                    0.0|                  0.0|        0.0|        0.0|        0.0|        0.0|                     496.0|                      496.0|        0.0|0.0400046751006|                   0.1|                  -0.1875|  0.0|\n",
      "|            255.0|          4.0|                           0.0|                    0.0|                  0.0|        0.0|        0.0|        0.0|        0.0|                       0.0|                        0.0|        0.0|0.0500962518137|       0.0333333333333|                      0.0|  0.0|\n",
      "|            211.0|          6.0|                           0.0|                    0.0|                  0.0|        0.0|        0.0|        0.0|        0.0|                     918.0|                      918.0|        0.0|0.0333514249339|                   0.1|                      0.0|  1.0|\n",
      "|            531.0|          7.0|                           1.0|                    0.0|                  0.0|        0.0|        0.0|        0.0|        0.0|                       0.0|                        0.0|        0.0|  0.49465082574|        0.136363636364|                      0.0|  0.0|\n",
      "|           1072.0|          7.0|                           0.0|                    0.0|                  1.0|        0.0|        0.0|        0.0|        0.0|                     545.0|              3151.15789474|        0.0|0.0285751849112|       0.0333333333333|           0.136363636364|  0.0|\n",
      "+-----------------+-------------+------------------------------+-----------------------+---------------------+-----------+-----------+-----------+-----------+--------------------------+---------------------------+-----------+---------------+----------------------+-------------------------+-----+\n",
      "only showing top 5 rows\n",
      "\n"
     ]
    }
   ],
   "source": [
    "df_spark.show(5)"
   ]
  },
  {
   "cell_type": "code",
   "execution_count": 35,
   "metadata": {},
   "outputs": [
    {
     "name": "stdout",
     "output_type": "stream",
     "text": [
      "There are 27924 rows in the training set, and 11720 in the test set\n"
     ]
    }
   ],
   "source": [
    "trainDF, testDF = df_spark.randomSplit([.7,.3], seed=42)\n",
    "print(f\"\"\"There are {trainDF.count()} rows in the training set, and {testDF.count()} in the test set\"\"\")"
   ]
  },
  {
   "cell_type": "code",
   "execution_count": 36,
   "metadata": {},
   "outputs": [
    {
     "data": {
      "text/plain": [
       "[(' n_tokens_content', 'double'),\n",
       " (' num_keywords', 'double'),\n",
       " (' data_channel_is_entertainment', 'double'),\n",
       " (' data_channel_is_socmed', 'double'),\n",
       " (' data_channel_is_tech', 'double'),\n",
       " (' kw_max_min', 'double'),\n",
       " (' kw_min_max', 'double'),\n",
       " (' kw_max_max', 'double'),\n",
       " (' kw_avg_avg', 'double'),\n",
       " (' self_reference_min_shares', 'double'),\n",
       " (' self_reference_avg_sharess', 'double'),\n",
       " (' is_weekend', 'double'),\n",
       " (' LDA_02', 'double'),\n",
       " (' min_positive_polarity', 'double'),\n",
       " (' title_sentiment_polarity', 'double'),\n",
       " ('Label', 'double')]"
      ]
     },
     "execution_count": 36,
     "metadata": {},
     "output_type": "execute_result"
    }
   ],
   "source": [
    "trainDF.dtypes"
   ]
  },
  {
   "cell_type": "code",
   "execution_count": 37,
   "metadata": {},
   "outputs": [],
   "source": [
    "assemblerInputs = [field for (field, dataType) in trainDF.dtypes if ((dataType == \"double\") & (field != \"Label\"))]\n",
    "vecAssembler = VectorAssembler(inputCols=assemblerInputs,\n",
    "                               outputCol=\"features\") "
   ]
  },
  {
   "cell_type": "code",
   "execution_count": 38,
   "metadata": {},
   "outputs": [],
   "source": [
    "dt = DecisionTreeClassifier(labelCol=\"Label\", featuresCol=\"features\", seed=42)\n",
    "\n",
    "stages = [vecAssembler, dt]\n",
    "\n",
    "pipeline = Pipeline(stages=stages)\n",
    "dt.setMaxBins(40)\n",
    "pipelineModel = pipeline.fit(trainDF)"
   ]
  },
  {
   "cell_type": "code",
   "execution_count": 39,
   "metadata": {},
   "outputs": [],
   "source": [
    "predDF = pipelineModel.transform(testDF)\n",
    "# predDF.select(\"features\", \"Label\", \"prediction\").show(30)"
   ]
  },
  {
   "cell_type": "code",
   "execution_count": 40,
   "metadata": {},
   "outputs": [],
   "source": [
    "dtModel = pipelineModel.stages[-1]\n",
    "# print(dtModel.toDebugString)"
   ]
  },
  {
   "cell_type": "code",
   "execution_count": 41,
   "metadata": {},
   "outputs": [
    {
     "data": {
      "text/html": [
       "<div>\n",
       "<style scoped>\n",
       "    .dataframe tbody tr th:only-of-type {\n",
       "        vertical-align: middle;\n",
       "    }\n",
       "\n",
       "    .dataframe tbody tr th {\n",
       "        vertical-align: top;\n",
       "    }\n",
       "\n",
       "    .dataframe thead th {\n",
       "        text-align: right;\n",
       "    }\n",
       "</style>\n",
       "<table border=\"1\" class=\"dataframe\">\n",
       "  <thead>\n",
       "    <tr style=\"text-align: right;\">\n",
       "      <th></th>\n",
       "      <th>feature</th>\n",
       "      <th>importance</th>\n",
       "    </tr>\n",
       "  </thead>\n",
       "  <tbody>\n",
       "    <tr>\n",
       "      <th>8</th>\n",
       "      <td>kw_avg_avg</td>\n",
       "      <td>0.350485</td>\n",
       "    </tr>\n",
       "    <tr>\n",
       "      <th>2</th>\n",
       "      <td>data_channel_is_entertainment</td>\n",
       "      <td>0.144778</td>\n",
       "    </tr>\n",
       "    <tr>\n",
       "      <th>11</th>\n",
       "      <td>is_weekend</td>\n",
       "      <td>0.144438</td>\n",
       "    </tr>\n",
       "    <tr>\n",
       "      <th>4</th>\n",
       "      <td>data_channel_is_tech</td>\n",
       "      <td>0.102748</td>\n",
       "    </tr>\n",
       "    <tr>\n",
       "      <th>3</th>\n",
       "      <td>data_channel_is_socmed</td>\n",
       "      <td>0.083331</td>\n",
       "    </tr>\n",
       "    <tr>\n",
       "      <th>10</th>\n",
       "      <td>self_reference_avg_sharess</td>\n",
       "      <td>0.072001</td>\n",
       "    </tr>\n",
       "    <tr>\n",
       "      <th>12</th>\n",
       "      <td>LDA_02</td>\n",
       "      <td>0.040639</td>\n",
       "    </tr>\n",
       "    <tr>\n",
       "      <th>6</th>\n",
       "      <td>kw_min_max</td>\n",
       "      <td>0.016475</td>\n",
       "    </tr>\n",
       "    <tr>\n",
       "      <th>7</th>\n",
       "      <td>kw_max_max</td>\n",
       "      <td>0.012741</td>\n",
       "    </tr>\n",
       "    <tr>\n",
       "      <th>0</th>\n",
       "      <td>n_tokens_content</td>\n",
       "      <td>0.011978</td>\n",
       "    </tr>\n",
       "    <tr>\n",
       "      <th>13</th>\n",
       "      <td>min_positive_polarity</td>\n",
       "      <td>0.010141</td>\n",
       "    </tr>\n",
       "    <tr>\n",
       "      <th>9</th>\n",
       "      <td>self_reference_min_shares</td>\n",
       "      <td>0.007437</td>\n",
       "    </tr>\n",
       "    <tr>\n",
       "      <th>1</th>\n",
       "      <td>num_keywords</td>\n",
       "      <td>0.002807</td>\n",
       "    </tr>\n",
       "    <tr>\n",
       "      <th>5</th>\n",
       "      <td>kw_max_min</td>\n",
       "      <td>0.000000</td>\n",
       "    </tr>\n",
       "    <tr>\n",
       "      <th>14</th>\n",
       "      <td>title_sentiment_polarity</td>\n",
       "      <td>0.000000</td>\n",
       "    </tr>\n",
       "  </tbody>\n",
       "</table>\n",
       "</div>"
      ],
      "text/plain": [
       "                           feature  importance\n",
       "8                       kw_avg_avg    0.350485\n",
       "2    data_channel_is_entertainment    0.144778\n",
       "11                      is_weekend    0.144438\n",
       "4             data_channel_is_tech    0.102748\n",
       "3           data_channel_is_socmed    0.083331\n",
       "10      self_reference_avg_sharess    0.072001\n",
       "12                          LDA_02    0.040639\n",
       "6                       kw_min_max    0.016475\n",
       "7                       kw_max_max    0.012741\n",
       "0                 n_tokens_content    0.011978\n",
       "13           min_positive_polarity    0.010141\n",
       "9        self_reference_min_shares    0.007437\n",
       "1                     num_keywords    0.002807\n",
       "5                       kw_max_min    0.000000\n",
       "14        title_sentiment_polarity    0.000000"
      ]
     },
     "execution_count": 41,
     "metadata": {},
     "output_type": "execute_result"
    }
   ],
   "source": [
    "featureImp = pd.DataFrame(list(zip(vecAssembler.getInputCols(), dtModel.featureImportances)), columns=[\"feature\", \"importance\"])\n",
    "featureImp.sort_values(by=\"importance\", ascending=False)"
   ]
  },
  {
   "cell_type": "code",
   "execution_count": 42,
   "metadata": {},
   "outputs": [
    {
     "name": "stdout",
     "output_type": "stream",
     "text": [
      "Test Error = 0.358362 \n"
     ]
    }
   ],
   "source": [
    "evaluator = MulticlassClassificationEvaluator(\n",
    "    labelCol=\"Label\", predictionCol=\"prediction\", metricName=\"accuracy\")\n",
    "accuracy = evaluator.evaluate(predDF)\n",
    "print(\"Test Error = %g \" % (1.0 - accuracy))"
   ]
  },
  {
   "cell_type": "code",
   "execution_count": null,
   "metadata": {},
   "outputs": [],
   "source": [
    "with mlflow.start_run(run_name=\"decision-tree\") as run:\n",
    "    # Log model\n",
    "    pipelineModel = pipeline.fit(trainDF)\n",
    "    mlflow.spark.log_model(pipelineModel, \"Model\")\n",
    "    \n",
    "    predDF = pipelineModel.transform(testDF)\n",
    "    evaluator = MulticlassClassificationEvaluator(\n",
    "    labelCol=\"Label\", predictionCol=\"prediction\")\n",
    "    accuracy = evaluator.setMetricName('accuracy').evaluate(predDF)\n",
    "    weightedPrecision = evaluator.setMetricName('weightedPrecision').evaluate(predDF)\n",
    "    mlflow.log_metrics({\"accuracy\": accuracy, \"weightedPrecision\": weightedPrecision})\n",
    "    dtModel = pipelineModel.stages[-1]\n",
    "    featureImp = (pd.DataFrame(list(zip(vecAssembler.getInputCols(), \n",
    "                                        dtModel.featureImportances)), \n",
    "                                        columns=[\"feature\", \"importance\"])\n",
    "                  .sort_values(by=\"importance\", ascending=False))\n",
    "    featureImp.to_csv(\"feature-importance.csv\", index=False)\n",
    "    mlflow.log_artifact(\"feature-importance.csv\")"
   ]
  },
  {
   "cell_type": "code",
   "execution_count": null,
   "metadata": {},
   "outputs": [],
   "source": []
  },
  {
   "cell_type": "code",
   "execution_count": null,
   "metadata": {},
   "outputs": [],
   "source": []
  },
  {
   "cell_type": "code",
   "execution_count": null,
   "metadata": {},
   "outputs": [],
   "source": []
  },
  {
   "cell_type": "code",
   "execution_count": null,
   "metadata": {},
   "outputs": [],
   "source": []
  }
 ],
 "metadata": {
  "kernelspec": {
   "display_name": "Python 3",
   "language": "python",
   "name": "python3"
  },
  "language_info": {
   "codemirror_mode": {
    "name": "ipython",
    "version": 3
   },
   "file_extension": ".py",
   "mimetype": "text/x-python",
   "name": "python",
   "nbconvert_exporter": "python",
   "pygments_lexer": "ipython3",
   "version": "3.9.13"
  },
  "orig_nbformat": 4,
  "vscode": {
   "interpreter": {
    "hash": "b6d089313d9964bf0a775057fdba2ddb76b757f887813491471703a7ee59e2bc"
   }
  }
 },
 "nbformat": 4,
 "nbformat_minor": 2
}
