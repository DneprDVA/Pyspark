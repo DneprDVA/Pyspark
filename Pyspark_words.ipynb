{
 "cells": [
  {
   "cell_type": "code",
   "execution_count": 1,
   "metadata": {},
   "outputs": [],
   "source": [
    "import os\n",
    "os.environ[\"PYARROW_IGNORE_TIMEZONE\"] = \"1\""
   ]
  },
  {
   "cell_type": "code",
   "execution_count": 2,
   "metadata": {},
   "outputs": [],
   "source": [
    "import pandas as pd\n",
    "import sqlalchemy\n",
    "from sqlalchemy import create_engine\n",
    "import matplotlib\n",
    "import pyspark\n",
    "import pyspark.pandas as ps"
   ]
  },
  {
   "cell_type": "code",
   "execution_count": 3,
   "metadata": {},
   "outputs": [],
   "source": [
    "pd.set_option('display.max_columns', 100)"
   ]
  },
  {
   "cell_type": "code",
   "execution_count": 4,
   "metadata": {},
   "outputs": [],
   "source": [
    "# engine = create_engine('postgresql+psycopg2://postgres:@localhost/bdtest')"
   ]
  },
  {
   "cell_type": "code",
   "execution_count": 4,
   "metadata": {},
   "outputs": [],
   "source": [
    "words_df = pd.read_csv(\"OnlineNewsPopularity.csv\", usecols=[' kw_avg_avg', ' is_weekend', \\\n",
    "' data_channel_is_entertainment', ' data_channel_is_tech', ' data_channel_is_socmed', ' self_reference_avg_sharess', ' LDA_02', ' self_reference_min_shares', \\\n",
    "' kw_max_max', ' n_tokens_content', ' min_positive_polarity', ' kw_min_max', ' num_keywords', ' title_sentiment_polarity', ' kw_max_min', ' shares'])"
   ]
  },
  {
   "cell_type": "code",
   "execution_count": 5,
   "metadata": {},
   "outputs": [],
   "source": [
    "words_df.columns = words_df.columns.str.lstrip()"
   ]
  },
  {
   "cell_type": "code",
   "execution_count": 6,
   "metadata": {},
   "outputs": [
    {
     "data": {
      "text/html": [
       "<div>\n",
       "<style scoped>\n",
       "    .dataframe tbody tr th:only-of-type {\n",
       "        vertical-align: middle;\n",
       "    }\n",
       "\n",
       "    .dataframe tbody tr th {\n",
       "        vertical-align: top;\n",
       "    }\n",
       "\n",
       "    .dataframe thead th {\n",
       "        text-align: right;\n",
       "    }\n",
       "</style>\n",
       "<table border=\"1\" class=\"dataframe\">\n",
       "  <thead>\n",
       "    <tr style=\"text-align: right;\">\n",
       "      <th></th>\n",
       "      <th>n_tokens_content</th>\n",
       "      <th>num_keywords</th>\n",
       "      <th>data_channel_is_entertainment</th>\n",
       "      <th>data_channel_is_socmed</th>\n",
       "      <th>data_channel_is_tech</th>\n",
       "      <th>kw_max_min</th>\n",
       "      <th>kw_min_max</th>\n",
       "      <th>kw_max_max</th>\n",
       "      <th>kw_avg_avg</th>\n",
       "      <th>self_reference_min_shares</th>\n",
       "      <th>self_reference_avg_sharess</th>\n",
       "      <th>is_weekend</th>\n",
       "      <th>LDA_02</th>\n",
       "      <th>min_positive_polarity</th>\n",
       "      <th>title_sentiment_polarity</th>\n",
       "      <th>shares</th>\n",
       "    </tr>\n",
       "  </thead>\n",
       "  <tbody>\n",
       "    <tr>\n",
       "      <th>0</th>\n",
       "      <td>219.0</td>\n",
       "      <td>5.0</td>\n",
       "      <td>1.0</td>\n",
       "      <td>0.0</td>\n",
       "      <td>0.0</td>\n",
       "      <td>0.0</td>\n",
       "      <td>0.0</td>\n",
       "      <td>0.0</td>\n",
       "      <td>0.0</td>\n",
       "      <td>496.0</td>\n",
       "      <td>496.000000</td>\n",
       "      <td>0.0</td>\n",
       "      <td>0.040005</td>\n",
       "      <td>0.100000</td>\n",
       "      <td>-0.187500</td>\n",
       "      <td>593</td>\n",
       "    </tr>\n",
       "    <tr>\n",
       "      <th>1</th>\n",
       "      <td>255.0</td>\n",
       "      <td>4.0</td>\n",
       "      <td>0.0</td>\n",
       "      <td>0.0</td>\n",
       "      <td>0.0</td>\n",
       "      <td>0.0</td>\n",
       "      <td>0.0</td>\n",
       "      <td>0.0</td>\n",
       "      <td>0.0</td>\n",
       "      <td>0.0</td>\n",
       "      <td>0.000000</td>\n",
       "      <td>0.0</td>\n",
       "      <td>0.050096</td>\n",
       "      <td>0.033333</td>\n",
       "      <td>0.000000</td>\n",
       "      <td>711</td>\n",
       "    </tr>\n",
       "    <tr>\n",
       "      <th>2</th>\n",
       "      <td>211.0</td>\n",
       "      <td>6.0</td>\n",
       "      <td>0.0</td>\n",
       "      <td>0.0</td>\n",
       "      <td>0.0</td>\n",
       "      <td>0.0</td>\n",
       "      <td>0.0</td>\n",
       "      <td>0.0</td>\n",
       "      <td>0.0</td>\n",
       "      <td>918.0</td>\n",
       "      <td>918.000000</td>\n",
       "      <td>0.0</td>\n",
       "      <td>0.033351</td>\n",
       "      <td>0.100000</td>\n",
       "      <td>0.000000</td>\n",
       "      <td>1500</td>\n",
       "    </tr>\n",
       "    <tr>\n",
       "      <th>3</th>\n",
       "      <td>531.0</td>\n",
       "      <td>7.0</td>\n",
       "      <td>1.0</td>\n",
       "      <td>0.0</td>\n",
       "      <td>0.0</td>\n",
       "      <td>0.0</td>\n",
       "      <td>0.0</td>\n",
       "      <td>0.0</td>\n",
       "      <td>0.0</td>\n",
       "      <td>0.0</td>\n",
       "      <td>0.000000</td>\n",
       "      <td>0.0</td>\n",
       "      <td>0.494651</td>\n",
       "      <td>0.136364</td>\n",
       "      <td>0.000000</td>\n",
       "      <td>1200</td>\n",
       "    </tr>\n",
       "    <tr>\n",
       "      <th>4</th>\n",
       "      <td>1072.0</td>\n",
       "      <td>7.0</td>\n",
       "      <td>0.0</td>\n",
       "      <td>0.0</td>\n",
       "      <td>1.0</td>\n",
       "      <td>0.0</td>\n",
       "      <td>0.0</td>\n",
       "      <td>0.0</td>\n",
       "      <td>0.0</td>\n",
       "      <td>545.0</td>\n",
       "      <td>3151.157895</td>\n",
       "      <td>0.0</td>\n",
       "      <td>0.028575</td>\n",
       "      <td>0.033333</td>\n",
       "      <td>0.136364</td>\n",
       "      <td>505</td>\n",
       "    </tr>\n",
       "  </tbody>\n",
       "</table>\n",
       "</div>"
      ],
      "text/plain": [
       "   n_tokens_content  num_keywords  data_channel_is_entertainment  \\\n",
       "0             219.0           5.0                            1.0   \n",
       "1             255.0           4.0                            0.0   \n",
       "2             211.0           6.0                            0.0   \n",
       "3             531.0           7.0                            1.0   \n",
       "4            1072.0           7.0                            0.0   \n",
       "\n",
       "   data_channel_is_socmed  data_channel_is_tech  kw_max_min  kw_min_max  \\\n",
       "0                     0.0                   0.0         0.0         0.0   \n",
       "1                     0.0                   0.0         0.0         0.0   \n",
       "2                     0.0                   0.0         0.0         0.0   \n",
       "3                     0.0                   0.0         0.0         0.0   \n",
       "4                     0.0                   1.0         0.0         0.0   \n",
       "\n",
       "   kw_max_max  kw_avg_avg  self_reference_min_shares  \\\n",
       "0         0.0         0.0                      496.0   \n",
       "1         0.0         0.0                        0.0   \n",
       "2         0.0         0.0                      918.0   \n",
       "3         0.0         0.0                        0.0   \n",
       "4         0.0         0.0                      545.0   \n",
       "\n",
       "   self_reference_avg_sharess  is_weekend    LDA_02  min_positive_polarity  \\\n",
       "0                  496.000000         0.0  0.040005               0.100000   \n",
       "1                    0.000000         0.0  0.050096               0.033333   \n",
       "2                  918.000000         0.0  0.033351               0.100000   \n",
       "3                    0.000000         0.0  0.494651               0.136364   \n",
       "4                 3151.157895         0.0  0.028575               0.033333   \n",
       "\n",
       "   title_sentiment_polarity  shares  \n",
       "0                 -0.187500     593  \n",
       "1                  0.000000     711  \n",
       "2                  0.000000    1500  \n",
       "3                  0.000000    1200  \n",
       "4                  0.136364     505  "
      ]
     },
     "execution_count": 6,
     "metadata": {},
     "output_type": "execute_result"
    }
   ],
   "source": [
    "words_df.head()"
   ]
  },
  {
   "cell_type": "code",
   "execution_count": 7,
   "metadata": {},
   "outputs": [],
   "source": [
    "words_df.loc[words_df[\"shares\"] >= 1400, \"Label\"] = 1\n",
    "words_df.loc[words_df[\"shares\"] < 1400, \"Label\"] = 0"
   ]
  },
  {
   "cell_type": "code",
   "execution_count": 8,
   "metadata": {},
   "outputs": [],
   "source": [
    "words = words_df.drop('shares', axis=1)"
   ]
  },
  {
   "cell_type": "code",
   "execution_count": 9,
   "metadata": {},
   "outputs": [
    {
     "data": {
      "text/html": [
       "<div>\n",
       "<style scoped>\n",
       "    .dataframe tbody tr th:only-of-type {\n",
       "        vertical-align: middle;\n",
       "    }\n",
       "\n",
       "    .dataframe tbody tr th {\n",
       "        vertical-align: top;\n",
       "    }\n",
       "\n",
       "    .dataframe thead th {\n",
       "        text-align: right;\n",
       "    }\n",
       "</style>\n",
       "<table border=\"1\" class=\"dataframe\">\n",
       "  <thead>\n",
       "    <tr style=\"text-align: right;\">\n",
       "      <th></th>\n",
       "      <th>n_tokens_content</th>\n",
       "      <th>num_keywords</th>\n",
       "      <th>data_channel_is_entertainment</th>\n",
       "      <th>data_channel_is_socmed</th>\n",
       "      <th>data_channel_is_tech</th>\n",
       "      <th>kw_max_min</th>\n",
       "      <th>kw_min_max</th>\n",
       "      <th>kw_max_max</th>\n",
       "      <th>kw_avg_avg</th>\n",
       "      <th>self_reference_min_shares</th>\n",
       "      <th>self_reference_avg_sharess</th>\n",
       "      <th>is_weekend</th>\n",
       "      <th>LDA_02</th>\n",
       "      <th>min_positive_polarity</th>\n",
       "      <th>title_sentiment_polarity</th>\n",
       "      <th>Label</th>\n",
       "    </tr>\n",
       "  </thead>\n",
       "  <tbody>\n",
       "    <tr>\n",
       "      <th>0</th>\n",
       "      <td>219.0</td>\n",
       "      <td>5.0</td>\n",
       "      <td>1.0</td>\n",
       "      <td>0.0</td>\n",
       "      <td>0.0</td>\n",
       "      <td>0.0</td>\n",
       "      <td>0.0</td>\n",
       "      <td>0.0</td>\n",
       "      <td>0.0</td>\n",
       "      <td>496.0</td>\n",
       "      <td>496.000000</td>\n",
       "      <td>0.0</td>\n",
       "      <td>0.040005</td>\n",
       "      <td>0.100000</td>\n",
       "      <td>-0.187500</td>\n",
       "      <td>0.0</td>\n",
       "    </tr>\n",
       "    <tr>\n",
       "      <th>1</th>\n",
       "      <td>255.0</td>\n",
       "      <td>4.0</td>\n",
       "      <td>0.0</td>\n",
       "      <td>0.0</td>\n",
       "      <td>0.0</td>\n",
       "      <td>0.0</td>\n",
       "      <td>0.0</td>\n",
       "      <td>0.0</td>\n",
       "      <td>0.0</td>\n",
       "      <td>0.0</td>\n",
       "      <td>0.000000</td>\n",
       "      <td>0.0</td>\n",
       "      <td>0.050096</td>\n",
       "      <td>0.033333</td>\n",
       "      <td>0.000000</td>\n",
       "      <td>0.0</td>\n",
       "    </tr>\n",
       "    <tr>\n",
       "      <th>2</th>\n",
       "      <td>211.0</td>\n",
       "      <td>6.0</td>\n",
       "      <td>0.0</td>\n",
       "      <td>0.0</td>\n",
       "      <td>0.0</td>\n",
       "      <td>0.0</td>\n",
       "      <td>0.0</td>\n",
       "      <td>0.0</td>\n",
       "      <td>0.0</td>\n",
       "      <td>918.0</td>\n",
       "      <td>918.000000</td>\n",
       "      <td>0.0</td>\n",
       "      <td>0.033351</td>\n",
       "      <td>0.100000</td>\n",
       "      <td>0.000000</td>\n",
       "      <td>1.0</td>\n",
       "    </tr>\n",
       "    <tr>\n",
       "      <th>3</th>\n",
       "      <td>531.0</td>\n",
       "      <td>7.0</td>\n",
       "      <td>1.0</td>\n",
       "      <td>0.0</td>\n",
       "      <td>0.0</td>\n",
       "      <td>0.0</td>\n",
       "      <td>0.0</td>\n",
       "      <td>0.0</td>\n",
       "      <td>0.0</td>\n",
       "      <td>0.0</td>\n",
       "      <td>0.000000</td>\n",
       "      <td>0.0</td>\n",
       "      <td>0.494651</td>\n",
       "      <td>0.136364</td>\n",
       "      <td>0.000000</td>\n",
       "      <td>0.0</td>\n",
       "    </tr>\n",
       "    <tr>\n",
       "      <th>4</th>\n",
       "      <td>1072.0</td>\n",
       "      <td>7.0</td>\n",
       "      <td>0.0</td>\n",
       "      <td>0.0</td>\n",
       "      <td>1.0</td>\n",
       "      <td>0.0</td>\n",
       "      <td>0.0</td>\n",
       "      <td>0.0</td>\n",
       "      <td>0.0</td>\n",
       "      <td>545.0</td>\n",
       "      <td>3151.157895</td>\n",
       "      <td>0.0</td>\n",
       "      <td>0.028575</td>\n",
       "      <td>0.033333</td>\n",
       "      <td>0.136364</td>\n",
       "      <td>0.0</td>\n",
       "    </tr>\n",
       "  </tbody>\n",
       "</table>\n",
       "</div>"
      ],
      "text/plain": [
       "   n_tokens_content  num_keywords  data_channel_is_entertainment  \\\n",
       "0             219.0           5.0                            1.0   \n",
       "1             255.0           4.0                            0.0   \n",
       "2             211.0           6.0                            0.0   \n",
       "3             531.0           7.0                            1.0   \n",
       "4            1072.0           7.0                            0.0   \n",
       "\n",
       "   data_channel_is_socmed  data_channel_is_tech  kw_max_min  kw_min_max  \\\n",
       "0                     0.0                   0.0         0.0         0.0   \n",
       "1                     0.0                   0.0         0.0         0.0   \n",
       "2                     0.0                   0.0         0.0         0.0   \n",
       "3                     0.0                   0.0         0.0         0.0   \n",
       "4                     0.0                   1.0         0.0         0.0   \n",
       "\n",
       "   kw_max_max  kw_avg_avg  self_reference_min_shares  \\\n",
       "0         0.0         0.0                      496.0   \n",
       "1         0.0         0.0                        0.0   \n",
       "2         0.0         0.0                      918.0   \n",
       "3         0.0         0.0                        0.0   \n",
       "4         0.0         0.0                      545.0   \n",
       "\n",
       "   self_reference_avg_sharess  is_weekend    LDA_02  min_positive_polarity  \\\n",
       "0                  496.000000         0.0  0.040005               0.100000   \n",
       "1                    0.000000         0.0  0.050096               0.033333   \n",
       "2                  918.000000         0.0  0.033351               0.100000   \n",
       "3                    0.000000         0.0  0.494651               0.136364   \n",
       "4                 3151.157895         0.0  0.028575               0.033333   \n",
       "\n",
       "   title_sentiment_polarity  Label  \n",
       "0                 -0.187500    0.0  \n",
       "1                  0.000000    0.0  \n",
       "2                  0.000000    1.0  \n",
       "3                  0.000000    0.0  \n",
       "4                  0.136364    0.0  "
      ]
     },
     "execution_count": 9,
     "metadata": {},
     "output_type": "execute_result"
    }
   ],
   "source": [
    "words.head()"
   ]
  },
  {
   "cell_type": "code",
   "execution_count": 10,
   "metadata": {},
   "outputs": [],
   "source": [
    "from pyspark.ml import Pipeline\n",
    "from pyspark.sql import SparkSession, SQLContext\n",
    "from pyspark.ml.feature import VectorAssembler\n",
    "from pyspark.ml.regression import LinearRegression\n",
    "from pyspark.ml import Pipeline\n",
    "from pyspark.ml.classification import DecisionTreeClassifier\n",
    "from pyspark.ml.evaluation import MulticlassClassificationEvaluator\n",
    "from pyspark.ml.tuning import ParamGridBuilder\n",
    "from pyspark.ml.tuning import CrossValidator"
   ]
  },
  {
   "cell_type": "code",
   "execution_count": 11,
   "metadata": {},
   "outputs": [],
   "source": [
    "spark = (SparkSession\n",
    ".builder\n",
    ".appName(\"SparkSQLExampleApp\")\n",
    ".getOrCreate())"
   ]
  },
  {
   "cell_type": "code",
   "execution_count": null,
   "metadata": {},
   "outputs": [],
   "source": [
    "words_spark = ps.from_pandas(words)"
   ]
  },
  {
   "cell_type": "code",
   "execution_count": null,
   "metadata": {},
   "outputs": [],
   "source": [
    "df_spark = words_spark.to_spark()"
   ]
  },
  {
   "cell_type": "code",
   "execution_count": 15,
   "metadata": {},
   "outputs": [
    {
     "name": "stdout",
     "output_type": "stream",
     "text": [
      "+----------------+------------+-----------------------------+----------------------+--------------------+----------+----------+----------+----------+-------------------------+--------------------------+----------+---------------+---------------------+------------------------+-----+\n",
      "|n_tokens_content|num_keywords|data_channel_is_entertainment|data_channel_is_socmed|data_channel_is_tech|kw_max_min|kw_min_max|kw_max_max|kw_avg_avg|self_reference_min_shares|self_reference_avg_sharess|is_weekend|         LDA_02|min_positive_polarity|title_sentiment_polarity|Label|\n",
      "+----------------+------------+-----------------------------+----------------------+--------------------+----------+----------+----------+----------+-------------------------+--------------------------+----------+---------------+---------------------+------------------------+-----+\n",
      "|           219.0|         5.0|                          1.0|                   0.0|                 0.0|       0.0|       0.0|       0.0|       0.0|                    496.0|                     496.0|       0.0|0.0400046751006|                  0.1|                 -0.1875|  0.0|\n",
      "|           255.0|         4.0|                          0.0|                   0.0|                 0.0|       0.0|       0.0|       0.0|       0.0|                      0.0|                       0.0|       0.0|0.0500962518137|      0.0333333333333|                     0.0|  0.0|\n",
      "|           211.0|         6.0|                          0.0|                   0.0|                 0.0|       0.0|       0.0|       0.0|       0.0|                    918.0|                     918.0|       0.0|0.0333514249339|                  0.1|                     0.0|  1.0|\n",
      "|           531.0|         7.0|                          1.0|                   0.0|                 0.0|       0.0|       0.0|       0.0|       0.0|                      0.0|                       0.0|       0.0|  0.49465082574|       0.136363636364|                     0.0|  0.0|\n",
      "|          1072.0|         7.0|                          0.0|                   0.0|                 1.0|       0.0|       0.0|       0.0|       0.0|                    545.0|             3151.15789474|       0.0|0.0285751849112|      0.0333333333333|          0.136363636364|  0.0|\n",
      "+----------------+------------+-----------------------------+----------------------+--------------------+----------+----------+----------+----------+-------------------------+--------------------------+----------+---------------+---------------------+------------------------+-----+\n",
      "only showing top 5 rows\n",
      "\n"
     ]
    }
   ],
   "source": [
    "df_spark.show(5)"
   ]
  },
  {
   "cell_type": "code",
   "execution_count": 16,
   "metadata": {},
   "outputs": [
    {
     "name": "stdout",
     "output_type": "stream",
     "text": [
      "root\n",
      " |-- n_tokens_content: double (nullable = false)\n",
      " |-- num_keywords: double (nullable = false)\n",
      " |-- data_channel_is_entertainment: double (nullable = false)\n",
      " |-- data_channel_is_socmed: double (nullable = false)\n",
      " |-- data_channel_is_tech: double (nullable = false)\n",
      " |-- kw_max_min: double (nullable = false)\n",
      " |-- kw_min_max: double (nullable = false)\n",
      " |-- kw_max_max: double (nullable = false)\n",
      " |-- kw_avg_avg: double (nullable = false)\n",
      " |-- self_reference_min_shares: double (nullable = false)\n",
      " |-- self_reference_avg_sharess: double (nullable = false)\n",
      " |-- is_weekend: double (nullable = false)\n",
      " |-- LDA_02: double (nullable = false)\n",
      " |-- min_positive_polarity: double (nullable = false)\n",
      " |-- title_sentiment_polarity: double (nullable = false)\n",
      " |-- Label: double (nullable = false)\n",
      "\n"
     ]
    }
   ],
   "source": [
    "df_spark.printSchema()"
   ]
  },
  {
   "cell_type": "code",
   "execution_count": 18,
   "metadata": {},
   "outputs": [
    {
     "name": "stdout",
     "output_type": "stream",
     "text": [
      "27924 записей в тренировочном датасете и 11720 записей в тестовом датасете\n"
     ]
    }
   ],
   "source": [
    "trainDF, testDF = df_spark.randomSplit([.7,.3], seed=42)\n",
    "print(f\"\"\"{trainDF.count()} записей в тренировочном датасете и {testDF.count()} записей в тестовом датасете\"\"\")"
   ]
  },
  {
   "cell_type": "code",
   "execution_count": 19,
   "metadata": {},
   "outputs": [
    {
     "data": {
      "text/plain": [
       "[('n_tokens_content', 'double'),\n",
       " ('num_keywords', 'double'),\n",
       " ('data_channel_is_entertainment', 'double'),\n",
       " ('data_channel_is_socmed', 'double'),\n",
       " ('data_channel_is_tech', 'double'),\n",
       " ('kw_max_min', 'double'),\n",
       " ('kw_min_max', 'double'),\n",
       " ('kw_max_max', 'double'),\n",
       " ('kw_avg_avg', 'double'),\n",
       " ('self_reference_min_shares', 'double'),\n",
       " ('self_reference_avg_sharess', 'double'),\n",
       " ('is_weekend', 'double'),\n",
       " ('LDA_02', 'double'),\n",
       " ('min_positive_polarity', 'double'),\n",
       " ('title_sentiment_polarity', 'double'),\n",
       " ('Label', 'double')]"
      ]
     },
     "execution_count": 19,
     "metadata": {},
     "output_type": "execute_result"
    }
   ],
   "source": [
    "trainDF.dtypes"
   ]
  },
  {
   "cell_type": "code",
   "execution_count": 20,
   "metadata": {},
   "outputs": [],
   "source": [
    "assemblerInputs = [field for (field, dataType) in trainDF.dtypes if ((dataType == \"double\") & (field != \"Label\"))]\n",
    "vecAssembler = VectorAssembler(inputCols=assemblerInputs,\n",
    "                               outputCol=\"features\") "
   ]
  },
  {
   "cell_type": "code",
   "execution_count": 21,
   "metadata": {},
   "outputs": [],
   "source": [
    "dt = DecisionTreeClassifier(labelCol=\"Label\", featuresCol=\"features\", seed=42)\n",
    "\n",
    "stages = [vecAssembler, dt]\n",
    "\n",
    "pipeline = Pipeline(stages=stages)\n",
    "dt.setMaxBins(40)\n",
    "pipelineModel = pipeline.fit(trainDF)"
   ]
  },
  {
   "cell_type": "code",
   "execution_count": 23,
   "metadata": {},
   "outputs": [
    {
     "name": "stdout",
     "output_type": "stream",
     "text": [
      "+--------------------+-----+----------+\n",
      "|            features|Label|prediction|\n",
      "+--------------------+-----+----------+\n",
      "|(15,[1,5,6,7,8,12...|  1.0|       0.0|\n",
      "|(15,[1,5,7,8,11,1...|  1.0|       1.0|\n",
      "|(15,[1,5,7,8,12,1...|  1.0|       0.0|\n",
      "|(15,[1,5,7,8,12,1...|  1.0|       1.0|\n",
      "|(15,[1,4,5,7,8,12...|  1.0|       1.0|\n",
      "|(15,[1,4,5,7,8,12...|  1.0|       1.0|\n",
      "|(15,[1,3,5,7,8,11...|  1.0|       1.0|\n",
      "|[0.0,9.0,1.0,0.0,...|  1.0|       0.0|\n",
      "|(15,[1,5,7,8,12,1...|  0.0|       1.0|\n",
      "|(15,[1,5,7,8,12,1...|  0.0|       0.0|\n",
      "|(15,[1,5,7,8,12],...|  0.0|       1.0|\n",
      "|(15,[1,3,5,6,7,8,...|  1.0|       1.0|\n",
      "|(15,[1,2,5,6,7,8,...|  1.0|       0.0|\n",
      "|(15,[1,2,5,6,7,8,...|  0.0|       0.0|\n",
      "|(15,[1,2,5,6,7,8,...|  0.0|       0.0|\n",
      "|(15,[0,1,5,7,8,12...|  1.0|       1.0|\n",
      "|[21.0,8.0,0.0,0.0...|  1.0|       1.0|\n",
      "|[27.0,6.0,0.0,0.0...|  0.0|       1.0|\n",
      "|(15,[0,1,5,7,8,11...|  1.0|       1.0|\n",
      "|[32.0,10.0,0.0,0....|  0.0|       0.0|\n",
      "|(15,[0,1,5,7,8,12...|  0.0|       0.0|\n",
      "|[37.0,10.0,0.0,0....|  0.0|       0.0|\n",
      "|[38.0,7.0,0.0,0.0...|  1.0|       1.0|\n",
      "|[40.0,10.0,0.0,0....|  1.0|       1.0|\n",
      "|[43.0,8.0,0.0,0.0...|  1.0|       0.0|\n",
      "|[48.0,9.0,0.0,0.0...|  0.0|       1.0|\n",
      "|[49.0,7.0,0.0,0.0...|  1.0|       1.0|\n",
      "|[54.0,10.0,1.0,0....|  0.0|       0.0|\n",
      "|[55.0,10.0,1.0,0....|  0.0|       0.0|\n",
      "|[62.0,6.0,0.0,0.0...|  0.0|       0.0|\n",
      "+--------------------+-----+----------+\n",
      "only showing top 30 rows\n",
      "\n"
     ]
    }
   ],
   "source": [
    "predDF = pipelineModel.transform(testDF)\n",
    "predDF.select(\"features\", \"Label\", \"prediction\").show(30)"
   ]
  },
  {
   "cell_type": "code",
   "execution_count": 25,
   "metadata": {},
   "outputs": [],
   "source": [
    "dtModel = pipelineModel.stages[-1]"
   ]
  },
  {
   "cell_type": "code",
   "execution_count": 26,
   "metadata": {},
   "outputs": [
    {
     "data": {
      "text/html": [
       "<div>\n",
       "<style scoped>\n",
       "    .dataframe tbody tr th:only-of-type {\n",
       "        vertical-align: middle;\n",
       "    }\n",
       "\n",
       "    .dataframe tbody tr th {\n",
       "        vertical-align: top;\n",
       "    }\n",
       "\n",
       "    .dataframe thead th {\n",
       "        text-align: right;\n",
       "    }\n",
       "</style>\n",
       "<table border=\"1\" class=\"dataframe\">\n",
       "  <thead>\n",
       "    <tr style=\"text-align: right;\">\n",
       "      <th></th>\n",
       "      <th>feature</th>\n",
       "      <th>importance</th>\n",
       "    </tr>\n",
       "  </thead>\n",
       "  <tbody>\n",
       "    <tr>\n",
       "      <th>8</th>\n",
       "      <td>kw_avg_avg</td>\n",
       "      <td>0.350485</td>\n",
       "    </tr>\n",
       "    <tr>\n",
       "      <th>2</th>\n",
       "      <td>data_channel_is_entertainment</td>\n",
       "      <td>0.144778</td>\n",
       "    </tr>\n",
       "    <tr>\n",
       "      <th>11</th>\n",
       "      <td>is_weekend</td>\n",
       "      <td>0.144438</td>\n",
       "    </tr>\n",
       "    <tr>\n",
       "      <th>4</th>\n",
       "      <td>data_channel_is_tech</td>\n",
       "      <td>0.102748</td>\n",
       "    </tr>\n",
       "    <tr>\n",
       "      <th>3</th>\n",
       "      <td>data_channel_is_socmed</td>\n",
       "      <td>0.083331</td>\n",
       "    </tr>\n",
       "    <tr>\n",
       "      <th>10</th>\n",
       "      <td>self_reference_avg_sharess</td>\n",
       "      <td>0.072001</td>\n",
       "    </tr>\n",
       "    <tr>\n",
       "      <th>12</th>\n",
       "      <td>LDA_02</td>\n",
       "      <td>0.040639</td>\n",
       "    </tr>\n",
       "    <tr>\n",
       "      <th>6</th>\n",
       "      <td>kw_min_max</td>\n",
       "      <td>0.016475</td>\n",
       "    </tr>\n",
       "    <tr>\n",
       "      <th>7</th>\n",
       "      <td>kw_max_max</td>\n",
       "      <td>0.012741</td>\n",
       "    </tr>\n",
       "    <tr>\n",
       "      <th>0</th>\n",
       "      <td>n_tokens_content</td>\n",
       "      <td>0.011978</td>\n",
       "    </tr>\n",
       "    <tr>\n",
       "      <th>13</th>\n",
       "      <td>min_positive_polarity</td>\n",
       "      <td>0.010141</td>\n",
       "    </tr>\n",
       "    <tr>\n",
       "      <th>9</th>\n",
       "      <td>self_reference_min_shares</td>\n",
       "      <td>0.007437</td>\n",
       "    </tr>\n",
       "    <tr>\n",
       "      <th>1</th>\n",
       "      <td>num_keywords</td>\n",
       "      <td>0.002807</td>\n",
       "    </tr>\n",
       "    <tr>\n",
       "      <th>5</th>\n",
       "      <td>kw_max_min</td>\n",
       "      <td>0.000000</td>\n",
       "    </tr>\n",
       "    <tr>\n",
       "      <th>14</th>\n",
       "      <td>title_sentiment_polarity</td>\n",
       "      <td>0.000000</td>\n",
       "    </tr>\n",
       "  </tbody>\n",
       "</table>\n",
       "</div>"
      ],
      "text/plain": [
       "                          feature  importance\n",
       "8                      kw_avg_avg    0.350485\n",
       "2   data_channel_is_entertainment    0.144778\n",
       "11                     is_weekend    0.144438\n",
       "4            data_channel_is_tech    0.102748\n",
       "3          data_channel_is_socmed    0.083331\n",
       "10     self_reference_avg_sharess    0.072001\n",
       "12                         LDA_02    0.040639\n",
       "6                      kw_min_max    0.016475\n",
       "7                      kw_max_max    0.012741\n",
       "0                n_tokens_content    0.011978\n",
       "13          min_positive_polarity    0.010141\n",
       "9       self_reference_min_shares    0.007437\n",
       "1                    num_keywords    0.002807\n",
       "5                      kw_max_min    0.000000\n",
       "14       title_sentiment_polarity    0.000000"
      ]
     },
     "execution_count": 26,
     "metadata": {},
     "output_type": "execute_result"
    }
   ],
   "source": [
    "featureImp = pd.DataFrame(list(zip(vecAssembler.getInputCols(), dtModel.featureImportances)), columns=[\"feature\", \"importance\"])\n",
    "featureImp.sort_values(by=\"importance\", ascending=False)"
   ]
  },
  {
   "cell_type": "code",
   "execution_count": 28,
   "metadata": {},
   "outputs": [
    {
     "name": "stdout",
     "output_type": "stream",
     "text": [
      "Ошибка = 0.358362 \n"
     ]
    }
   ],
   "source": [
    "evaluator = MulticlassClassificationEvaluator(\n",
    "    labelCol=\"Label\", predictionCol=\"prediction\", metricName=\"accuracy\")\n",
    "accuracy = evaluator.evaluate(predDF)\n",
    "print(\"Ошибка = %g \" % (1.0 - accuracy))"
   ]
  },
  {
   "cell_type": "code",
   "execution_count": null,
   "metadata": {},
   "outputs": [],
   "source": [
    "with mlflow.start_run(run_name=\"decision-tree\") as run:\n",
    "    # Log model\n",
    "    pipelineModel = pipeline.fit(trainDF)\n",
    "    mlflow.spark.log_model(pipelineModel, \"Model\")\n",
    "    \n",
    "    predDF = pipelineModel.transform(testDF)\n",
    "    evaluator = MulticlassClassificationEvaluator(\n",
    "    labelCol=\"Label\", predictionCol=\"prediction\")\n",
    "    accuracy = evaluator.setMetricName('accuracy').evaluate(predDF)\n",
    "    weightedPrecision = evaluator.setMetricName('weightedPrecision').evaluate(predDF)\n",
    "    mlflow.log_metrics({\"accuracy\": accuracy, \"weightedPrecision\": weightedPrecision})\n",
    "    dtModel = pipelineModel.stages[-1]\n",
    "    featureImp = (pd.DataFrame(list(zip(vecAssembler.getInputCols(), \n",
    "                                        dtModel.featureImportances)), \n",
    "                                        columns=[\"feature\", \"importance\"])\n",
    "                  .sort_values(by=\"importance\", ascending=False))\n",
    "    featureImp.to_csv(\"feature-importance.csv\", index=False)\n",
    "    mlflow.log_artifact(\"feature-importance.csv\")"
   ]
  },
  {
   "cell_type": "code",
   "execution_count": 29,
   "metadata": {},
   "outputs": [],
   "source": [
    "from pyspark.ml.feature import PCA\n",
    "from pyspark.ml.linalg import Vectors\n",
    "df = spark.createDataFrame(\n",
    "    data=[\n",
    "        (Vectors.dense([2.0, 0.0, 3.0, 4.0, 5.0]),),\n",
    "        (Vectors.dense([4.0, 0.0, 0.0, 6.0, 7.0]),),\n",
    "        (Vectors.dense([8.0, 1.0, 4.0, 9.0, 0.0]),),\n",
    "    ],\n",
    "    schema=[\"features\"]\n",
    ")\n",
    "pca = PCA(k=2, inputCol=\"features\", outputCol=\"pcaFeatures\")\n",
    "model = pca.fit(df)\n",
    "result = model.transform(df)"
   ]
  },
  {
   "cell_type": "code",
   "execution_count": 30,
   "metadata": {},
   "outputs": [
    {
     "name": "stdout",
     "output_type": "stream",
     "text": [
      "+---------------------+----------------------------------------+\n",
      "|features             |pcaFeatures                             |\n",
      "+---------------------+----------------------------------------+\n",
      "|[2.0,0.0,3.0,4.0,5.0]|[-0.3579454550086063,2.8552717568779067]|\n",
      "|[4.0,0.0,0.0,6.0,7.0]|[-0.15702924479502833,7.433440897099073]|\n",
      "|[8.0,1.0,4.0,9.0,0.0]|[-9.435959482592683,5.219518215051579]  |\n",
      "+---------------------+----------------------------------------+\n",
      "\n"
     ]
    }
   ],
   "source": [
    "result.show(truncate=False)"
   ]
  },
  {
   "cell_type": "code",
   "execution_count": 31,
   "metadata": {},
   "outputs": [],
   "source": [
    "from sklearn import datasets\n",
    "iris = datasets.load_iris()\n",
    "X = iris.data\n",
    "Y = iris.target # вид ириса, всего их 3 и пронумерованы (0, 1 или 2)"
   ]
  },
  {
   "cell_type": "code",
   "execution_count": 32,
   "metadata": {},
   "outputs": [],
   "source": [
    "attributes = [\n",
    "    'Sepal Length',\n",
    "    'Sepal Width',\n",
    "    'Petal Length',\n",
    "    'Petal Width'\n",
    "]\n",
    "data = spark.createDataFrame(\n",
    "    data=X.tolist(),\n",
    "    schema=attributes)"
   ]
  },
  {
   "cell_type": "code",
   "execution_count": 33,
   "metadata": {},
   "outputs": [
    {
     "name": "stdout",
     "output_type": "stream",
     "text": [
      "+------------+-----------+------------+-----------+\n",
      "|Sepal Length|Sepal Width|Petal Length|Petal Width|\n",
      "+------------+-----------+------------+-----------+\n",
      "|         5.1|        3.5|         1.4|        0.2|\n",
      "|         4.9|        3.0|         1.4|        0.2|\n",
      "|         4.7|        3.2|         1.3|        0.2|\n",
      "|         4.6|        3.1|         1.5|        0.2|\n",
      "|         5.0|        3.6|         1.4|        0.2|\n",
      "+------------+-----------+------------+-----------+\n",
      "only showing top 5 rows\n",
      "\n"
     ]
    }
   ],
   "source": [
    "data.show(5)"
   ]
  },
  {
   "cell_type": "code",
   "execution_count": 34,
   "metadata": {},
   "outputs": [],
   "source": [
    "from pyspark.ml.feature import VectorAssembler\n",
    "assembler = VectorAssembler(\n",
    "    inputCols=attributes,\n",
    "    outputCol=\"features\"\n",
    ")\n",
    "output = assembler.transform(data)"
   ]
  },
  {
   "cell_type": "code",
   "execution_count": 35,
   "metadata": {},
   "outputs": [],
   "source": [
    "from pyspark.ml.feature import PCA\n",
    "pca = PCA(k=2, inputCol=\"features\", outputCol=\"pcaFeatures\")\n",
    "model = pca.fit(output)\n",
    "result = model.transform(output)# .select(\"pcaFeatures\")"
   ]
  },
  {
   "cell_type": "code",
   "execution_count": 36,
   "metadata": {},
   "outputs": [
    {
     "name": "stdout",
     "output_type": "stream",
     "text": [
      "+------------+-----------+------------+-----------+-----------------+----------------------------------------+\n",
      "|Sepal Length|Sepal Width|Petal Length|Petal Width|features         |pcaFeatures                             |\n",
      "+------------+-----------+------------+-----------+-----------------+----------------------------------------+\n",
      "|5.1         |3.5        |1.4         |0.2        |[5.1,3.5,1.4,0.2]|[-2.8182395066394674,-5.646349823412792]|\n",
      "|4.9         |3.0        |1.4         |0.2        |[4.9,3.0,1.4,0.2]|[-2.788223445314679,-5.149951351762912] |\n",
      "|4.7         |3.2        |1.3         |0.2        |[4.7,3.2,1.3,0.2]|[-2.6133745635497077,-5.182003150742134]|\n",
      "|4.6         |3.1        |1.5         |0.2        |[4.6,3.1,1.5,0.2]|[-2.7570222769675947,-5.008653597575776]|\n",
      "|5.0         |3.6        |1.4         |0.2        |[5.0,3.6,1.4,0.2]|[-2.773648596054474,-5.653707089762611] |\n",
      "+------------+-----------+------------+-----------+-----------------+----------------------------------------+\n",
      "only showing top 5 rows\n",
      "\n"
     ]
    }
   ],
   "source": [
    "result.show(5, truncate=False)"
   ]
  },
  {
   "cell_type": "code",
   "execution_count": 37,
   "metadata": {},
   "outputs": [],
   "source": [
    "from pyspark.ml.feature import VectorSlicer\n",
    "slicer = VectorSlicer(inputCol=\"pcaFeatures\", outputCol=\"attr_1\", indices=[0])\n",
    "sliced = slicer.transform(result)\n",
    "slicer = VectorSlicer(inputCol=\"pcaFeatures\", outputCol=\"attr_2\", indices=[1])\n",
    "sliced = slicer.transform(sliced)"
   ]
  },
  {
   "cell_type": "code",
   "execution_count": 38,
   "metadata": {},
   "outputs": [
    {
     "name": "stdout",
     "output_type": "stream",
     "text": [
      "+--------------------+--------------------+\n",
      "|              attr_1|              attr_2|\n",
      "+--------------------+--------------------+\n",
      "|[-2.8182395066394...|[-5.646349823412792]|\n",
      "|[-2.788223445314679]|[-5.149951351762912]|\n",
      "|[-2.6133745635497...|[-5.182003150742134]|\n",
      "|[-2.7570222769675...|[-5.008653597575776]|\n",
      "|[-2.773648596054474]|[-5.653707089762611]|\n",
      "+--------------------+--------------------+\n",
      "only showing top 5 rows\n",
      "\n"
     ]
    }
   ],
   "source": [
    "sliced.select('attr_1', 'attr_2').show(5)"
   ]
  },
  {
   "cell_type": "code",
   "execution_count": 39,
   "metadata": {},
   "outputs": [
    {
     "data": {
      "image/png": "[encoded data removed]",
      "text/plain": [
       "<Figure size 640x480 with 1 Axes>"
      ]
     },
     "metadata": {},
     "output_type": "display_data"
    }
   ],
   "source": [
    "import matplotlib.pyplot as plt\n",
    "x = sliced.select('attr_1').collect()\n",
    "y = sliced.select('attr_2').collect()\n",
    "colors_map = {\n",
    "  0: '#b40426',\n",
    "  1: '#3b4cc0',\n",
    "  2: '#f2da0a',\n",
    "}\n",
    "# из кода выше Y = iris.target\n",
    "colors = list(map(lambda p: colors_map[p], Y))\n",
    "plt.scatter(x, y, c=colors)\n",
    "plt.title(f'Visualizing the principal components')\n",
    "plt.xlabel('Principal component 1')\n",
    "plt.ylabel('Principal component 2')\n",
    "plt.show()"
   ]
  }
 ],
 "metadata": {
  "kernelspec": {
   "display_name": "Python 3",
   "language": "python",
   "name": "python3"
  },
  "language_info": {
   "codemirror_mode": {
    "name": "ipython",
    "version": 3
   },
   "file_extension": ".py",
   "mimetype": "text/x-python",
   "name": "python",
   "nbconvert_exporter": "python",
   "pygments_lexer": "ipython3",
   "version": "3.9.13"
  },
  "orig_nbformat": 4,
  "vscode": {
   "interpreter": {
    "hash": "b6d089313d9964bf0a775057fdba2ddb76b757f887813491471703a7ee59e2bc"
   }
  }
 },
 "nbformat": 4,
 "nbformat_minor": 2
}
